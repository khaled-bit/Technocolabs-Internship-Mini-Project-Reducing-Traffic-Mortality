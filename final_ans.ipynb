{
 "cells": [
  {
   "cell_type": "markdown",
   "id": "618fa6db",
   "metadata": {},
   "source": [
    "# Reading the Data and Overview about it"
   ]
  },
  {
   "cell_type": "code",
   "execution_count": 144,
   "id": "2c318eac",
   "metadata": {},
   "outputs": [],
   "source": [
    "import numpy as np\n",
    "import pandas as pd\n",
    "import chardet\n",
    "import csv"
   ]
  },
  {
   "cell_type": "code",
   "execution_count": 145,
   "id": "957524a3",
   "metadata": {},
   "outputs": [
    {
     "data": {
      "text/html": [
       "<div>\n",
       "<style scoped>\n",
       "    .dataframe tbody tr th:only-of-type {\n",
       "        vertical-align: middle;\n",
       "    }\n",
       "\n",
       "    .dataframe tbody tr th {\n",
       "        vertical-align: top;\n",
       "    }\n",
       "\n",
       "    .dataframe thead th {\n",
       "        text-align: right;\n",
       "    }\n",
       "</style>\n",
       "<table border=\"1\" class=\"dataframe\">\n",
       "  <thead>\n",
       "    <tr style=\"text-align: right;\">\n",
       "      <th></th>\n",
       "      <th>state</th>\n",
       "      <th>million_miles_annually</th>\n",
       "    </tr>\n",
       "  </thead>\n",
       "  <tbody>\n",
       "    <tr>\n",
       "      <th>0</th>\n",
       "      <td>Alabama</td>\n",
       "      <td>64914</td>\n",
       "    </tr>\n",
       "    <tr>\n",
       "      <th>1</th>\n",
       "      <td>Alaska</td>\n",
       "      <td>4593</td>\n",
       "    </tr>\n",
       "    <tr>\n",
       "      <th>2</th>\n",
       "      <td>Arizona</td>\n",
       "      <td>59575</td>\n",
       "    </tr>\n",
       "    <tr>\n",
       "      <th>3</th>\n",
       "      <td>Arkansas</td>\n",
       "      <td>32953</td>\n",
       "    </tr>\n",
       "    <tr>\n",
       "      <th>4</th>\n",
       "      <td>California</td>\n",
       "      <td>320784</td>\n",
       "    </tr>\n",
       "  </tbody>\n",
       "</table>\n",
       "</div>"
      ],
      "text/plain": [
       "        state  million_miles_annually\n",
       "0     Alabama                   64914\n",
       "1      Alaska                    4593\n",
       "2     Arizona                   59575\n",
       "3    Arkansas                   32953\n",
       "4  California                  320784"
      ]
     },
     "execution_count": 145,
     "metadata": {},
     "output_type": "execute_result"
    }
   ],
   "source": [
    "db_milesDriven =pd.read_csv(r\"C:\\Users\\dell\\Desktop\\Internship_technocolabs\\miles-driven.csv\", sep='|')\n",
    "db_milesDriven.head()"
   ]
  },
  {
   "cell_type": "code",
   "execution_count": 146,
   "id": "61611581",
   "metadata": {
    "scrolled": true
   },
   "outputs": [
    {
     "data": {
      "text/html": [
       "<div>\n",
       "<style scoped>\n",
       "    .dataframe tbody tr th:only-of-type {\n",
       "        vertical-align: middle;\n",
       "    }\n",
       "\n",
       "    .dataframe tbody tr th {\n",
       "        vertical-align: top;\n",
       "    }\n",
       "\n",
       "    .dataframe thead th {\n",
       "        text-align: right;\n",
       "    }\n",
       "</style>\n",
       "<table border=\"1\" class=\"dataframe\">\n",
       "  <thead>\n",
       "    <tr style=\"text-align: right;\">\n",
       "      <th></th>\n",
       "      <th>state</th>\n",
       "      <th>drvr_fatl_col_bmiles</th>\n",
       "      <th>perc_fatl_speed</th>\n",
       "      <th>perc_fatl_alcohol</th>\n",
       "      <th>perc_fatl_1st_time</th>\n",
       "    </tr>\n",
       "  </thead>\n",
       "  <tbody>\n",
       "    <tr>\n",
       "      <th>0</th>\n",
       "      <td>Alabama</td>\n",
       "      <td>18.8</td>\n",
       "      <td>39</td>\n",
       "      <td>30</td>\n",
       "      <td>80</td>\n",
       "    </tr>\n",
       "    <tr>\n",
       "      <th>1</th>\n",
       "      <td>Alaska</td>\n",
       "      <td>18.1</td>\n",
       "      <td>41</td>\n",
       "      <td>25</td>\n",
       "      <td>94</td>\n",
       "    </tr>\n",
       "    <tr>\n",
       "      <th>2</th>\n",
       "      <td>Arizona</td>\n",
       "      <td>18.6</td>\n",
       "      <td>35</td>\n",
       "      <td>28</td>\n",
       "      <td>96</td>\n",
       "    </tr>\n",
       "    <tr>\n",
       "      <th>3</th>\n",
       "      <td>Arkansas</td>\n",
       "      <td>22.4</td>\n",
       "      <td>18</td>\n",
       "      <td>26</td>\n",
       "      <td>95</td>\n",
       "    </tr>\n",
       "    <tr>\n",
       "      <th>4</th>\n",
       "      <td>California</td>\n",
       "      <td>12.0</td>\n",
       "      <td>35</td>\n",
       "      <td>28</td>\n",
       "      <td>89</td>\n",
       "    </tr>\n",
       "  </tbody>\n",
       "</table>\n",
       "</div>"
      ],
      "text/plain": [
       "        state  drvr_fatl_col_bmiles  perc_fatl_speed  perc_fatl_alcohol  \\\n",
       "0     Alabama                  18.8               39                 30   \n",
       "1      Alaska                  18.1               41                 25   \n",
       "2     Arizona                  18.6               35                 28   \n",
       "3    Arkansas                  22.4               18                 26   \n",
       "4  California                  12.0               35                 28   \n",
       "\n",
       "   perc_fatl_1st_time  \n",
       "0                  80  \n",
       "1                  94  \n",
       "2                  96  \n",
       "3                  95  \n",
       "4                  89  "
      ]
     },
     "execution_count": 146,
     "metadata": {},
     "output_type": "execute_result"
    }
   ],
   "source": [
    "db_road_accidents=pd.read_csv(r\"C:\\Users\\dell\\Desktop\\Internship_technocolabs\\road-accidents.csv\", sep = '|', comment=\"#\")\n",
    "#db_road_accidents=pd.read_csv(r\"C:\\Users\\dell\\Desktop\\Internship_technocolabs\\road-accidents.csv\", sep = '|', skiprows = 9)\n",
    "db_road_accidents.head()"
   ]
  },
  {
   "cell_type": "markdown",
   "id": "2447ef77",
   "metadata": {},
   "source": [
    "# Create a textual and a graphical summary of the data"
   ]
  },
  {
   "cell_type": "code",
   "execution_count": 147,
   "id": "f651bf6b",
   "metadata": {},
   "outputs": [],
   "source": [
    "import pandas as pd\n",
    "import matplotlib.pyplot as plt\n",
    "import seaborn as sns"
   ]
  },
  {
   "cell_type": "markdown",
   "id": "81a9fd8c",
   "metadata": {},
   "source": [
    "## textual summary of data"
   ]
  },
  {
   "cell_type": "code",
   "execution_count": 148,
   "id": "cd507d61",
   "metadata": {},
   "outputs": [
    {
     "data": {
      "text/html": [
       "<div>\n",
       "<style scoped>\n",
       "    .dataframe tbody tr th:only-of-type {\n",
       "        vertical-align: middle;\n",
       "    }\n",
       "\n",
       "    .dataframe tbody tr th {\n",
       "        vertical-align: top;\n",
       "    }\n",
       "\n",
       "    .dataframe thead th {\n",
       "        text-align: right;\n",
       "    }\n",
       "</style>\n",
       "<table border=\"1\" class=\"dataframe\">\n",
       "  <thead>\n",
       "    <tr style=\"text-align: right;\">\n",
       "      <th></th>\n",
       "      <th>drvr_fatl_col_bmiles</th>\n",
       "      <th>perc_fatl_speed</th>\n",
       "      <th>perc_fatl_alcohol</th>\n",
       "      <th>perc_fatl_1st_time</th>\n",
       "    </tr>\n",
       "  </thead>\n",
       "  <tbody>\n",
       "    <tr>\n",
       "      <th>count</th>\n",
       "      <td>51.000000</td>\n",
       "      <td>51.000000</td>\n",
       "      <td>51.000000</td>\n",
       "      <td>51.00000</td>\n",
       "    </tr>\n",
       "    <tr>\n",
       "      <th>mean</th>\n",
       "      <td>15.790196</td>\n",
       "      <td>31.725490</td>\n",
       "      <td>30.686275</td>\n",
       "      <td>88.72549</td>\n",
       "    </tr>\n",
       "    <tr>\n",
       "      <th>std</th>\n",
       "      <td>4.122002</td>\n",
       "      <td>9.633438</td>\n",
       "      <td>5.132213</td>\n",
       "      <td>6.96011</td>\n",
       "    </tr>\n",
       "    <tr>\n",
       "      <th>min</th>\n",
       "      <td>5.900000</td>\n",
       "      <td>13.000000</td>\n",
       "      <td>16.000000</td>\n",
       "      <td>76.00000</td>\n",
       "    </tr>\n",
       "    <tr>\n",
       "      <th>25%</th>\n",
       "      <td>12.750000</td>\n",
       "      <td>23.000000</td>\n",
       "      <td>28.000000</td>\n",
       "      <td>83.50000</td>\n",
       "    </tr>\n",
       "    <tr>\n",
       "      <th>50%</th>\n",
       "      <td>15.600000</td>\n",
       "      <td>34.000000</td>\n",
       "      <td>30.000000</td>\n",
       "      <td>88.00000</td>\n",
       "    </tr>\n",
       "    <tr>\n",
       "      <th>75%</th>\n",
       "      <td>18.500000</td>\n",
       "      <td>38.000000</td>\n",
       "      <td>33.000000</td>\n",
       "      <td>95.00000</td>\n",
       "    </tr>\n",
       "    <tr>\n",
       "      <th>max</th>\n",
       "      <td>23.900000</td>\n",
       "      <td>54.000000</td>\n",
       "      <td>44.000000</td>\n",
       "      <td>100.00000</td>\n",
       "    </tr>\n",
       "  </tbody>\n",
       "</table>\n",
       "</div>"
      ],
      "text/plain": [
       "       drvr_fatl_col_bmiles  perc_fatl_speed  perc_fatl_alcohol  \\\n",
       "count             51.000000        51.000000          51.000000   \n",
       "mean              15.790196        31.725490          30.686275   \n",
       "std                4.122002         9.633438           5.132213   \n",
       "min                5.900000        13.000000          16.000000   \n",
       "25%               12.750000        23.000000          28.000000   \n",
       "50%               15.600000        34.000000          30.000000   \n",
       "75%               18.500000        38.000000          33.000000   \n",
       "max               23.900000        54.000000          44.000000   \n",
       "\n",
       "       perc_fatl_1st_time  \n",
       "count            51.00000  \n",
       "mean             88.72549  \n",
       "std               6.96011  \n",
       "min              76.00000  \n",
       "25%              83.50000  \n",
       "50%              88.00000  \n",
       "75%              95.00000  \n",
       "max             100.00000  "
      ]
     },
     "execution_count": 148,
     "metadata": {},
     "output_type": "execute_result"
    }
   ],
   "source": [
    "db_road_accidents.describe()"
   ]
  },
  {
   "cell_type": "code",
   "execution_count": 149,
   "id": "e334f433",
   "metadata": {},
   "outputs": [
    {
     "data": {
      "text/html": [
       "<div>\n",
       "<style scoped>\n",
       "    .dataframe tbody tr th:only-of-type {\n",
       "        vertical-align: middle;\n",
       "    }\n",
       "\n",
       "    .dataframe tbody tr th {\n",
       "        vertical-align: top;\n",
       "    }\n",
       "\n",
       "    .dataframe thead th {\n",
       "        text-align: right;\n",
       "    }\n",
       "</style>\n",
       "<table border=\"1\" class=\"dataframe\">\n",
       "  <thead>\n",
       "    <tr style=\"text-align: right;\">\n",
       "      <th></th>\n",
       "      <th>million_miles_annually</th>\n",
       "    </tr>\n",
       "  </thead>\n",
       "  <tbody>\n",
       "    <tr>\n",
       "      <th>count</th>\n",
       "      <td>51.000000</td>\n",
       "    </tr>\n",
       "    <tr>\n",
       "      <th>mean</th>\n",
       "      <td>57851.019608</td>\n",
       "    </tr>\n",
       "    <tr>\n",
       "      <th>std</th>\n",
       "      <td>59898.414088</td>\n",
       "    </tr>\n",
       "    <tr>\n",
       "      <th>min</th>\n",
       "      <td>3568.000000</td>\n",
       "    </tr>\n",
       "    <tr>\n",
       "      <th>25%</th>\n",
       "      <td>17450.000000</td>\n",
       "    </tr>\n",
       "    <tr>\n",
       "      <th>50%</th>\n",
       "      <td>46606.000000</td>\n",
       "    </tr>\n",
       "    <tr>\n",
       "      <th>75%</th>\n",
       "      <td>71922.500000</td>\n",
       "    </tr>\n",
       "    <tr>\n",
       "      <th>max</th>\n",
       "      <td>320784.000000</td>\n",
       "    </tr>\n",
       "  </tbody>\n",
       "</table>\n",
       "</div>"
      ],
      "text/plain": [
       "       million_miles_annually\n",
       "count               51.000000\n",
       "mean             57851.019608\n",
       "std              59898.414088\n",
       "min               3568.000000\n",
       "25%              17450.000000\n",
       "50%              46606.000000\n",
       "75%              71922.500000\n",
       "max             320784.000000"
      ]
     },
     "execution_count": 149,
     "metadata": {},
     "output_type": "execute_result"
    }
   ],
   "source": [
    "db_milesDriven.describe()"
   ]
  },
  {
   "cell_type": "code",
   "execution_count": 150,
   "id": "aba20a74",
   "metadata": {},
   "outputs": [
    {
     "data": {
      "text/plain": [
       "<seaborn.axisgrid.FacetGrid at 0x1dd8ee9f220>"
      ]
     },
     "execution_count": 150,
     "metadata": {},
     "output_type": "execute_result"
    },
    {
     "data": {
      "image/png": "[encoded data removed]",
      "text/plain": [
       "<Figure size 495.375x360 with 1 Axes>"
      ]
     },
     "metadata": {
      "needs_background": "light"
     },
     "output_type": "display_data"
    }
   ],
   "source": [
    "sns.displot(data= db_road_accidents)"
   ]
  },
  {
   "cell_type": "code",
   "execution_count": 151,
   "id": "ef600527",
   "metadata": {
    "scrolled": false
   },
   "outputs": [
    {
     "data": {
      "text/plain": [
       "<seaborn.axisgrid.FacetGrid at 0x1dd8e671880>"
      ]
     },
     "execution_count": 151,
     "metadata": {},
     "output_type": "execute_result"
    },
    {
     "data": {
      "image/png": "[encoded data removed]",
      "text/plain": [
       "<Figure size 509.25x360 with 1 Axes>"
      ]
     },
     "metadata": {
      "needs_background": "light"
     },
     "output_type": "display_data"
    }
   ],
   "source": [
    "sns.displot(data= db_milesDriven  )"
   ]
  },
  {
   "cell_type": "code",
   "execution_count": 152,
   "id": "5588be15",
   "metadata": {},
   "outputs": [],
   "source": [
    "#sns.scatterplot(data= db_milesDriven  )"
   ]
  },
  {
   "cell_type": "code",
   "execution_count": 156,
   "id": "0a4a5518",
   "metadata": {},
   "outputs": [
    {
     "data": {
      "text/plain": [
       "<AxesSubplot:xlabel='perc_fatl_1st_time', ylabel='drvr_fatl_col_bmiles'>"
      ]
     },
     "execution_count": 156,
     "metadata": {},
     "output_type": "execute_result"
    },
    {
     "data": {
      "image/png": "[encoded data removed]",
      "text/plain": [
       "<Figure size 432x288 with 1 Axes>"
      ]
     },
     "metadata": {
      "needs_background": "light"
     },
     "output_type": "display_data"
    }
   ],
   "source": [
    "sns.scatterplot(x=db_road_accidents['perc_fatl_1st_time']  ,y =db_road_accidents['drvr_fatl_col_bmiles'])"
   ]
  },
  {
   "cell_type": "code",
   "execution_count": 157,
   "id": "966be73d",
   "metadata": {},
   "outputs": [
    {
     "data": {
      "text/plain": [
       "<AxesSubplot:xlabel='perc_fatl_speed', ylabel='Count'>"
      ]
     },
     "execution_count": 157,
     "metadata": {},
     "output_type": "execute_result"
    },
    {
     "data": {
      "image/png": "[encoded data removed]",
      "text/plain": [
       "<Figure size 432x288 with 1 Axes>"
      ]
     },
     "metadata": {
      "needs_background": "light"
     },
     "output_type": "display_data"
    }
   ],
   "source": [
    "sns.histplot(data=db_road_accidents ,x=db_road_accidents['perc_fatl_speed'] )"
   ]
  },
  {
   "cell_type": "code",
   "execution_count": 158,
   "id": "ba5c803b",
   "metadata": {},
   "outputs": [
    {
     "data": {
      "text/plain": [
       "<AxesSubplot:xlabel='perc_fatl_alcohol', ylabel='Count'>"
      ]
     },
     "execution_count": 158,
     "metadata": {},
     "output_type": "execute_result"
    },
    {
     "data": {
      "image/png": "[encoded data removed]",
      "text/plain": [
       "<Figure size 432x288 with 1 Axes>"
      ]
     },
     "metadata": {
      "needs_background": "light"
     },
     "output_type": "display_data"
    }
   ],
   "source": [
    "sns.histplot(data=db_road_accidents ,x=db_road_accidents['perc_fatl_alcohol'] )"
   ]
  },
  {
   "cell_type": "code",
   "execution_count": 159,
   "id": "b0437cc6",
   "metadata": {},
   "outputs": [
    {
     "data": {
      "text/plain": [
       "<AxesSubplot:xlabel='perc_fatl_1st_time', ylabel='Count'>"
      ]
     },
     "execution_count": 159,
     "metadata": {},
     "output_type": "execute_result"
    },
    {
     "data": {
      "image/png": "[encoded data removed]",
      "text/plain": [
       "<Figure size 432x288 with 1 Axes>"
      ]
     },
     "metadata": {
      "needs_background": "light"
     },
     "output_type": "display_data"
    }
   ],
   "source": [
    "sns.histplot(data=db_road_accidents ,x=db_road_accidents['perc_fatl_1st_time'] )"
   ]
  },
  {
   "cell_type": "code",
   "execution_count": 160,
   "id": "2769333b",
   "metadata": {},
   "outputs": [],
   "source": [
    "# sns.histplot(data=db_road_accidents ,x=db_road_accidents['drvr_fatl_col_bmiles'] )"
   ]
  },
  {
   "cell_type": "code",
   "execution_count": 161,
   "id": "63bcf548",
   "metadata": {},
   "outputs": [
    {
     "data": {
      "text/plain": [
       "<seaborn.axisgrid.PairGrid at 0x1dd901f3ca0>"
      ]
     },
     "execution_count": 161,
     "metadata": {},
     "output_type": "execute_result"
    },
    {
     "data": {
      "image/png": "[encoded data removed]",
      "text/plain": [
       "<Figure size 728x720 with 16 Axes>"
      ]
     },
     "metadata": {
      "needs_background": "light"
     },
     "output_type": "display_data"
    }
   ],
   "source": [
    "g = sns.PairGrid(db_road_accidents)\n",
    "g.map_offdiag(sns.scatterplot)\n",
    "g.add_legend()"
   ]
  },
  {
   "cell_type": "code",
   "execution_count": 162,
   "id": "fc96a680",
   "metadata": {},
   "outputs": [
    {
     "name": "stderr",
     "output_type": "stream",
     "text": [
      "D:\\New folder (2)\\lib\\site-packages\\seaborn\\axisgrid.py:156: UserWarning:\n",
      "\n",
      "The handle <matplotlib.patches.Patch object at 0x000001DD8E6711C0> has a label of '_nolegend_' which cannot be automatically added to the legend.\n",
      "\n"
     ]
    },
    {
     "data": {
      "text/plain": [
       "<seaborn.axisgrid.PairGrid at 0x1dd8e2f35b0>"
      ]
     },
     "execution_count": 162,
     "metadata": {},
     "output_type": "execute_result"
    },
    {
     "data": {
      "image/png": "[encoded data removed]",
      "text/plain": [
       "<Figure size 728x720 with 16 Axes>"
      ]
     },
     "metadata": {
      "needs_background": "light"
     },
     "output_type": "display_data"
    }
   ],
   "source": [
    "g = sns.PairGrid(db_road_accidents)\n",
    "g.map_offdiag(sns.regplot)\n",
    "g.add_legend()"
   ]
  },
  {
   "cell_type": "markdown",
   "id": "b0f873e8",
   "metadata": {},
   "source": [
    "# quantify the association"
   ]
  },
  {
   "cell_type": "code",
   "execution_count": 163,
   "id": "0eea4e4e",
   "metadata": {},
   "outputs": [],
   "source": [
    "from numpy.random import seed\n",
    "from scipy.stats import pearsonr\n",
    "import numpy as np\n",
    "\n",
    "seed(1)"
   ]
  },
  {
   "cell_type": "code",
   "execution_count": 164,
   "id": "1acf46f0",
   "metadata": {},
   "outputs": [
    {
     "data": {
      "text/plain": [
       "array([[ 1.        , -0.01794188],\n",
       "       [-0.01794188,  1.        ]])"
      ]
     },
     "execution_count": 164,
     "metadata": {},
     "output_type": "execute_result"
    }
   ],
   "source": [
    "corr_1 = np.corrcoef(db_road_accidents['perc_fatl_1st_time'], db_road_accidents['drvr_fatl_col_bmiles'])\n",
    "corr_1"
   ]
  },
  {
   "cell_type": "code",
   "execution_count": 165,
   "id": "379cee53",
   "metadata": {},
   "outputs": [
    {
     "data": {
      "text/plain": [
       "array([[ 1.        , -0.02908015],\n",
       "       [-0.02908015,  1.        ]])"
      ]
     },
     "execution_count": 165,
     "metadata": {},
     "output_type": "execute_result"
    }
   ],
   "source": [
    "corr_2 =  np.corrcoef(db_road_accidents['perc_fatl_speed'], db_road_accidents['drvr_fatl_col_bmiles'])\n",
    "corr_2"
   ]
  },
  {
   "cell_type": "code",
   "execution_count": 166,
   "id": "6eba06d5",
   "metadata": {},
   "outputs": [
    {
     "data": {
      "text/plain": [
       "array([[1.        , 0.19942634],\n",
       "       [0.19942634, 1.        ]])"
      ]
     },
     "execution_count": 166,
     "metadata": {},
     "output_type": "execute_result"
    }
   ],
   "source": [
    "corr_3 =  np.corrcoef(db_road_accidents['perc_fatl_alcohol'], db_road_accidents['drvr_fatl_col_bmiles'])\n",
    "corr_3"
   ]
  },
  {
   "cell_type": "code",
   "execution_count": 167,
   "id": "d59a9368",
   "metadata": {},
   "outputs": [
    {
     "data": {
      "text/plain": [
       "array([[ 1.        , -0.24545506],\n",
       "       [-0.24545506,  1.        ]])"
      ]
     },
     "execution_count": 167,
     "metadata": {},
     "output_type": "execute_result"
    }
   ],
   "source": [
    "corr_4 =  np.corrcoef(db_road_accidents['perc_fatl_1st_time'], db_road_accidents['perc_fatl_alcohol'])\n",
    "corr_4"
   ]
  },
  {
   "cell_type": "code",
   "execution_count": 168,
   "id": "587841b8",
   "metadata": {},
   "outputs": [
    {
     "data": {
      "text/plain": [
       "array([[1.        , 0.19942634],\n",
       "       [0.19942634, 1.        ]])"
      ]
     },
     "execution_count": 168,
     "metadata": {},
     "output_type": "execute_result"
    }
   ],
   "source": [
    "corr_5 =  np.corrcoef(db_road_accidents['perc_fatl_alcohol'], db_road_accidents['drvr_fatl_col_bmiles'])\n",
    "corr_5"
   ]
  },
  {
   "cell_type": "code",
   "execution_count": 169,
   "id": "01446733",
   "metadata": {},
   "outputs": [
    {
     "data": {
      "text/plain": [
       "array([[ 1.        , -0.01794188],\n",
       "       [-0.01794188,  1.        ]])"
      ]
     },
     "execution_count": 169,
     "metadata": {},
     "output_type": "execute_result"
    }
   ],
   "source": [
    "corr_6 =  np.corrcoef(db_road_accidents['perc_fatl_1st_time'], db_road_accidents['drvr_fatl_col_bmiles'])\n",
    "corr_6"
   ]
  },
  {
   "cell_type": "markdown",
   "id": "914a8d60",
   "metadata": {},
   "source": [
    "# fitting a mulitvarite linear regression\n"
   ]
  },
  {
   "cell_type": "code",
   "execution_count": 170,
   "id": "68589cfb",
   "metadata": {},
   "outputs": [],
   "source": [
    "from sklearn import linear_model"
   ]
  },
  {
   "cell_type": "code",
   "execution_count": 171,
   "id": "255a1a71",
   "metadata": {},
   "outputs": [],
   "source": [
    "x = db_road_accidents.drop(['drvr_fatl_col_bmiles'] ,axis=1)\n",
    "y = db_road_accidents['drvr_fatl_col_bmiles']"
   ]
  },
  {
   "cell_type": "code",
   "execution_count": 172,
   "id": "b2f28267",
   "metadata": {},
   "outputs": [
    {
     "data": {
      "text/plain": [
       "array([-0.04180041,  0.19086404,  0.02473301])"
      ]
     },
     "execution_count": 172,
     "metadata": {},
     "output_type": "execute_result"
    }
   ],
   "source": [
    "states=pd.get_dummies(x['state'],drop_first=True)\n",
    "x= x.drop(labels=['state'],axis=1)\n",
    "x=pd.concat([x,states],axis=1)\n",
    "reg = linear_model.LinearRegression()\n",
    "reg.fit(db_road_accidents[['perc_fatl_speed','perc_fatl_alcohol','perc_fatl_1st_time']],db_road_accidents.drvr_fatl_col_bmiles)\n",
    "\n",
    "reg.coef_"
   ]
  },
  {
   "cell_type": "markdown",
   "id": "003ed241",
   "metadata": {},
   "source": [
    "\n",
    "# there is a masking relationship between alcohol and bmiles"
   ]
  },
  {
   "cell_type": "code",
   "execution_count": 173,
   "id": "02a92b05",
   "metadata": {},
   "outputs": [],
   "source": [
    "#x = db_road_accidents.drop(['drvr_fatl_col_bmiles'] ,axis=1)\n",
    "#y = db_road_accidents['drvr_fatl_col_bmiles']\n",
    "#x.head()"
   ]
  },
  {
   "cell_type": "code",
   "execution_count": 174,
   "id": "6b6b55a6",
   "metadata": {},
   "outputs": [],
   "source": [
    "#states=pd.get_dummies(x['state'],drop_first=True)\n",
    "#x= x.drop(labels=['state'],axis=1)\n",
    "#x=pd.concat([x,states],axis=1)\n"
   ]
  },
  {
   "cell_type": "code",
   "execution_count": 175,
   "id": "7b069d51",
   "metadata": {},
   "outputs": [],
   "source": [
    "#x.head()"
   ]
  },
  {
   "cell_type": "code",
   "execution_count": 176,
   "id": "380f4afa",
   "metadata": {},
   "outputs": [],
   "source": [
    "#from sklearn.model_selection import train_test_split\n",
    "#X_train, X_test, y_train, y_test = train_test_split(x, y, test_size=0.3,random_state=0)"
   ]
  },
  {
   "cell_type": "code",
   "execution_count": 177,
   "id": "aebef574",
   "metadata": {},
   "outputs": [],
   "source": [
    "#from sklearn.linear_model import LinearRegression\n",
    "#mL= LinearRegression()\n",
    "#mL.fit(X_train,y_train)\n"
   ]
  },
  {
   "cell_type": "code",
   "execution_count": 178,
   "id": "6314169f",
   "metadata": {},
   "outputs": [],
   "source": [
    "#y_pred = mL.predict(X_test)"
   ]
  },
  {
   "cell_type": "code",
   "execution_count": 179,
   "id": "e8c74069",
   "metadata": {},
   "outputs": [],
   "source": [
    "#from sklearn.metrics import r2_score\n",
    "#score=r2_score(y_test,y_pred)\n",
    "#print(score)"
   ]
  },
  {
   "cell_type": "markdown",
   "id": "f9d24523",
   "metadata": {},
   "source": [
    "# pca on standraized data"
   ]
  },
  {
   "cell_type": "code",
   "execution_count": 200,
   "id": "3b893072",
   "metadata": {},
   "outputs": [],
   "source": [
    "from sklearn.preprocessing import MinMaxScaler\n",
    "from pandas import DataFrame\n",
    "from matplotlib import pyplot\n",
    "#x = db_road_accidents.drop(['drvr_fatl_col_bmiles'] ,axis=1)\n",
    "#y = db_road_accidents['drvr_fatl_col_bmiles']\n",
    "#states=pd.get_dummies(x['state'],drop_first=True)\n",
    "#x= x.drop(labels=['state'],axis=1)\n",
    "#x=pd.concat([x,states],axis=1)\n",
    "#trans = MinMaxScaler()\n",
    "#data = trans.fit_transform(x)\n",
    "# convert the array back to a dataframe\n",
    "#dataset = DataFrame(data)\n",
    "# summarize\n",
    "#print(dataset.describe())\n",
    "# histograms of the variables\n",
    "#dataset.hist()\n",
    "#pyplot.show()\n",
    "#dataset.head()\n",
    "features = db_road_accidents[['perc_fatl_speed', 'perc_fatl_alcohol', 'perc_fatl_1st_time']]\n",
    "target = db_road_accidents['drvr_fatl_col_bmiles']\n"
   ]
  },
  {
   "cell_type": "code",
   "execution_count": 201,
   "id": "5ef21432",
   "metadata": {},
   "outputs": [
    {
     "name": "stdout",
     "output_type": "stream",
     "text": [
      "The cumulative variance of the first two principal components is 0.7947\n"
     ]
    },
    {
     "data": {
      "image/png": "[encoded data removed]",
      "text/plain": [
       "<Figure size 432x288 with 1 Axes>"
      ]
     },
     "metadata": {
      "needs_background": "light"
     },
     "output_type": "display_data"
    }
   ],
   "source": [
    "from sklearn.preprocessing import StandardScaler\n",
    "scaler = StandardScaler()\n",
    "features_scaled = scaler.fit_transform(features)\n",
    "\n",
    "# Import the PCA class function from sklearn\n",
    "from sklearn.decomposition import PCA\n",
    "pca = PCA()\n",
    "\n",
    "# Fit the standardized data to the pca\n",
    "pca.fit(features_scaled)\n",
    "\n",
    "# Plot the proportion of variance explained on the y-axis of the bar plot\n",
    "import matplotlib.pyplot as plt\n",
    "plt.bar(range(1, pca.n_components_ + 1),  pca.explained_variance_ratio_)\n",
    "plt.xlabel('Principal component #')\n",
    "plt.ylabel('Proportion of variance explained')\n",
    "plt.xticks([1, 2, 3])\n",
    "\n",
    "# Compute the cumulative proportion of variance explained by the first two principal components\n",
    "two_first_comp_var_exp = sum(pca.explained_variance_ratio_[:2])\n",
    "print(\"The cumulative variance of the first two principal components is {}\".format(\n",
    "    round(two_first_comp_var_exp, 5)))"
   ]
  },
  {
   "cell_type": "code",
   "execution_count": 202,
   "id": "ebd83e23",
   "metadata": {},
   "outputs": [
    {
     "data": {
      "text/plain": [
       "<matplotlib.collections.PathCollection at 0x1dd912abd90>"
      ]
     },
     "execution_count": 202,
     "metadata": {},
     "output_type": "execute_result"
    },
    {
     "data": {
      "image/png": "[encoded data removed]",
      "text/plain": [
       "<Figure size 432x288 with 1 Axes>"
      ]
     },
     "metadata": {
      "needs_background": "light"
     },
     "output_type": "display_data"
    }
   ],
   "source": [
    "pca = PCA(n_components=2)\n",
    "p_comps = pca.fit_transform(features_scaled)\n",
    "\n",
    "# Extract the first and second component to use for the scatter plot\n",
    "p_comp1 = p_comps[:,0]\n",
    "p_comp2 = p_comps[:,1]\n",
    "\n",
    "# Plot the first two principal components in a scatter plot\n",
    "plt.scatter(p_comp1, p_comp2)"
   ]
  },
  {
   "cell_type": "code",
   "execution_count": 181,
   "id": "a8142c5c",
   "metadata": {},
   "outputs": [],
   "source": [
    "# importing required libraries\n",
    "#import numpy as np\n",
    "#import matplotlib.pyplot as plt\n",
    "#import pandas as pd\n",
    "#from sklearn import preprocessing\n",
    "#from sklearn import utils\n",
    "#import plotly.express as px\n"
   ]
  },
  {
   "cell_type": "code",
   "execution_count": 182,
   "id": "44bd754f",
   "metadata": {},
   "outputs": [],
   "source": [
    "\n",
    "\n",
    "# distributing the dataset into two components X and Y\n",
    "#X = dataset.iloc[:, 0:52].values\n",
    "\n",
    "#y = dataset.iloc[:,0].values\n",
    "#lab = preprocessing.LabelEncoder()\n",
    "#y_transformed = lab.fit_transform(y)"
   ]
  },
  {
   "cell_type": "code",
   "execution_count": 183,
   "id": "1a096da0",
   "metadata": {},
   "outputs": [],
   "source": [
    "#from sklearn.decomposition import PCA\n",
    " \n",
    "#pca = PCA(n_components = 2)\n",
    "#X = dataset.iloc[:,0:2]\n",
    "#components  = pca.fit_transform(X)\n",
    "#total_var = pca.explained_variance_ratio_.sum() * 100\n",
    "#X_test = pca.transform(X_test)\n",
    "#pca_data = pd.DataFrame(components) \n",
    "#explained_variance = pca.explained_variance_ratio_"
   ]
  },
  {
   "cell_type": "code",
   "execution_count": 203,
   "id": "c6e2832f",
   "metadata": {},
   "outputs": [],
   "source": [
    "#fig = px.scatter_3d(\n",
    "#    components, x=0, y=1,z=0,\n",
    "#    title=f'Total Explained Variance: {total_var:.2f}%',\n",
    "#    labels={'0': 'PC 1', '1': 'PC 2'}\n",
    "#)\n",
    "#fig.show()"
   ]
  },
  {
   "cell_type": "markdown",
   "id": "213323df",
   "metadata": {},
   "source": [
    "# Kmeans "
   ]
  },
  {
   "cell_type": "code",
   "execution_count": 185,
   "id": "6e7cb124",
   "metadata": {},
   "outputs": [],
   "source": [
    "import matplotlib.pyplot as plt\n",
    "import numpy as np"
   ]
  },
  {
   "cell_type": "code",
   "execution_count": 205,
   "id": "0b825d64",
   "metadata": {},
   "outputs": [
    {
     "name": "stderr",
     "output_type": "stream",
     "text": [
      "D:\\New folder (2)\\lib\\site-packages\\sklearn\\cluster\\_kmeans.py:1036: UserWarning:\n",
      "\n",
      "KMeans is known to have a memory leak on Windows with MKL, when there are less chunks than available threads. You can avoid it by setting the environment variable OMP_NUM_THREADS=1.\n",
      "\n"
     ]
    },
    {
     "data": {
      "text/plain": [
       "[<matplotlib.lines.Line2D at 0x1dd9254b700>]"
      ]
     },
     "execution_count": 205,
     "metadata": {},
     "output_type": "execute_result"
    },
    {
     "data": {
      "image/png": "[encoded data removed]",
      "text/plain": [
       "<Figure size 432x288 with 1 Axes>"
      ]
     },
     "metadata": {
      "needs_background": "light"
     },
     "output_type": "display_data"
    }
   ],
   "source": [
    "from sklearn.cluster import KMeans\n",
    "\n",
    "# A loop will be used to plot the explanatory power for up to 10 KMeans clusters\n",
    "ks = range(1, 10)\n",
    "inertias = []\n",
    "for k in ks:\n",
    "    # Initialize the KMeans object using the current number of clusters (k)\n",
    "    km = KMeans(n_clusters=k, random_state=8)\n",
    "    # Fit the scaled features to the KMeans object\n",
    "    km.fit(features_scaled)\n",
    "    # Append the inertia for `km` to the list of inertias\n",
    "    inertias.append(km.inertia_)\n",
    "    \n",
    "# Plot the results in a line plot\n",
    "plt.plot(ks, inertias, marker='o')"
   ]
  },
  {
   "cell_type": "code",
   "execution_count": 206,
   "id": "d2f950b7",
   "metadata": {},
   "outputs": [
    {
     "data": {
      "text/plain": [
       "<matplotlib.collections.PathCollection at 0x1dd925a7790>"
      ]
     },
     "execution_count": 206,
     "metadata": {},
     "output_type": "execute_result"
    },
    {
     "data": {
      "image/png": "[encoded data removed]",
      "text/plain": [
       "<Figure size 432x288 with 1 Axes>"
      ]
     },
     "metadata": {
      "needs_background": "light"
     },
     "output_type": "display_data"
    }
   ],
   "source": [
    "km = KMeans(n_clusters=3, random_state=8)\n",
    "\n",
    "# Fit the data to the `km` object\n",
    "km.fit(features_scaled)\n",
    "\n",
    "# Create a scatter plot of the first two principal components\n",
    "# and color it according to the KMeans cluster assignment \n",
    "plt.scatter(p_comps[:,0], p_comps[:,1], c=km.labels_)"
   ]
  },
  {
   "cell_type": "code",
   "execution_count": 204,
   "id": "d109a0f1",
   "metadata": {},
   "outputs": [],
   "source": [
    "#PC_values = np.arange(pca.n_components_) + 1\n",
    "#plt.plot(PC_values, pca.explained_variance_ratio_, 'o-', linewidth=2, color='blue')\n",
    "#plt.title('Scree Plot')\n",
    "#plt.xlabel('Principal Component')\n",
    "#plt.ylabel('Variance Explained')\n",
    "#plt.show()"
   ]
  },
  {
   "cell_type": "markdown",
   "id": "9f0170fa",
   "metadata": {},
   "source": [
    "# kmeans "
   ]
  },
  {
   "cell_type": "code",
   "execution_count": 210,
   "id": "40395ff2",
   "metadata": {},
   "outputs": [],
   "source": [
    "#import pandas as pd\n",
    "#import matplotlib.pyplot as plt\n",
    "#import seaborn as sns\n",
    "#from sklearn.preprocessing import StandardScaler\n",
    "#from sklearn.decomposition import PCA \n",
    "#from sklearn.datasets import make_blobs\n",
    "#from sklearn.cluster import KMeans"
   ]
  },
  {
   "cell_type": "code",
   "execution_count": 211,
   "id": "5cff68dd",
   "metadata": {},
   "outputs": [],
   "source": [
    "#kmeans =KMeans(n_clusters=3).fit(X)\n",
    "#kmeans.cluster_centers_"
   ]
  },
  {
   "cell_type": "code",
   "execution_count": 212,
   "id": "db8dbbe3",
   "metadata": {},
   "outputs": [],
   "source": [
    "#kmeans.labels_"
   ]
  },
  {
   "cell_type": "code",
   "execution_count": 213,
   "id": "ccb25955",
   "metadata": {},
   "outputs": [],
   "source": [
    "#pca_data.head()"
   ]
  },
  {
   "cell_type": "code",
   "execution_count": 214,
   "id": "566602a5",
   "metadata": {},
   "outputs": [],
   "source": [
    "#pca_data['cluster'] = pd.Categorical(kmeans.labels_)\n",
    "#sns.scatterplot(x=0,y=1,hue=\"cluster\",data=pca_data)"
   ]
  },
  {
   "cell_type": "code",
   "execution_count": 215,
   "id": "387849b6",
   "metadata": {},
   "outputs": [],
   "source": [
    "#X.head()"
   ]
  },
  {
   "cell_type": "code",
   "execution_count": 216,
   "id": "50f804a8",
   "metadata": {},
   "outputs": [],
   "source": [
    "#dataset.head()"
   ]
  },
  {
   "cell_type": "code",
   "execution_count": 217,
   "id": "19029f3c",
   "metadata": {},
   "outputs": [],
   "source": [
    "#x.head()"
   ]
  },
  {
   "cell_type": "code",
   "execution_count": 218,
   "id": "7755df70",
   "metadata": {},
   "outputs": [],
   "source": [
    "#miles_driven = db_milesDriven['million_miles_annually']\n",
    "#x = pd.concat([x,miles_driven],axis=1)\n",
    "#x.head()"
   ]
  },
  {
   "cell_type": "markdown",
   "id": "fc362c2c",
   "metadata": {},
   "source": [
    "# Visualize the feature differences between the clusters\n"
   ]
  },
  {
   "cell_type": "code",
   "execution_count": 223,
   "id": "626b0804",
   "metadata": {},
   "outputs": [
    {
     "data": {
      "text/html": [
       "<div>\n",
       "<style scoped>\n",
       "    .dataframe tbody tr th:only-of-type {\n",
       "        vertical-align: middle;\n",
       "    }\n",
       "\n",
       "    .dataframe tbody tr th {\n",
       "        vertical-align: top;\n",
       "    }\n",
       "\n",
       "    .dataframe thead th {\n",
       "        text-align: right;\n",
       "    }\n",
       "</style>\n",
       "<table border=\"1\" class=\"dataframe\">\n",
       "  <thead>\n",
       "    <tr style=\"text-align: right;\">\n",
       "      <th></th>\n",
       "      <th>cluster</th>\n",
       "      <th>measurement</th>\n",
       "      <th>percent</th>\n",
       "    </tr>\n",
       "  </thead>\n",
       "  <tbody>\n",
       "    <tr>\n",
       "      <th>0</th>\n",
       "      <td>0</td>\n",
       "      <td>perc_fatl_speed</td>\n",
       "      <td>39</td>\n",
       "    </tr>\n",
       "    <tr>\n",
       "      <th>1</th>\n",
       "      <td>2</td>\n",
       "      <td>perc_fatl_speed</td>\n",
       "      <td>41</td>\n",
       "    </tr>\n",
       "    <tr>\n",
       "      <th>2</th>\n",
       "      <td>2</td>\n",
       "      <td>perc_fatl_speed</td>\n",
       "      <td>35</td>\n",
       "    </tr>\n",
       "    <tr>\n",
       "      <th>3</th>\n",
       "      <td>2</td>\n",
       "      <td>perc_fatl_speed</td>\n",
       "      <td>18</td>\n",
       "    </tr>\n",
       "    <tr>\n",
       "      <th>4</th>\n",
       "      <td>2</td>\n",
       "      <td>perc_fatl_speed</td>\n",
       "      <td>35</td>\n",
       "    </tr>\n",
       "  </tbody>\n",
       "</table>\n",
       "</div>"
      ],
      "text/plain": [
       "   cluster      measurement  percent\n",
       "0        0  perc_fatl_speed       39\n",
       "1        2  perc_fatl_speed       41\n",
       "2        2  perc_fatl_speed       35\n",
       "3        2  perc_fatl_speed       18\n",
       "4        2  perc_fatl_speed       35"
      ]
     },
     "execution_count": 223,
     "metadata": {},
     "output_type": "execute_result"
    }
   ],
   "source": [
    "# Create a new column with the labels from the KMeans clustering\n",
    "db_road_accidents['cluster'] = km.labels_\n",
    "\n",
    "# Reshape the DataFrame to the long format\n",
    "melt_car = pd.melt(db_road_accidents, id_vars=['cluster'], \n",
    "                   value_vars=['perc_fatl_speed', 'perc_fatl_alcohol', 'perc_fatl_1st_time'],\n",
    "                   var_name='measurement', value_name='percent')\n",
    "\n",
    "melt_car.head()\n",
    "\n",
    "# Create a violin plot splitting and coloring the results according to the km-clusters\n"
   ]
  },
  {
   "cell_type": "code",
   "execution_count": 224,
   "id": "c972057c",
   "metadata": {},
   "outputs": [
    {
     "data": {
      "text/plain": [
       "<AxesSubplot:xlabel='percent', ylabel='measurement'>"
      ]
     },
     "execution_count": 224,
     "metadata": {},
     "output_type": "execute_result"
    },
    {
     "data": {
      "image/png": "[encoded data removed]",
      "text/plain": [
       "<Figure size 432x288 with 1 Axes>"
      ]
     },
     "metadata": {
      "needs_background": "light"
     },
     "output_type": "display_data"
    }
   ],
   "source": [
    "sns.violinplot(x='percent', y='measurement', data=melt_car, hue='cluster' )"
   ]
  },
  {
   "cell_type": "markdown",
   "id": "6265b051",
   "metadata": {},
   "source": [
    "# Compute the number of accidents within each cluster"
   ]
  },
  {
   "cell_type": "code",
   "execution_count": 228,
   "id": "eba85f86",
   "metadata": {},
   "outputs": [
    {
     "name": "stderr",
     "output_type": "stream",
     "text": [
      "C:\\Users\\dell\\AppData\\Local\\Temp\\ipykernel_19440\\1419825238.py:14: FutureWarning:\n",
      "\n",
      "['state'] did not aggregate successfully. If any error is raised this will raise in a future version of pandas. Drop these columns/ops to avoid this warning.\n",
      "\n"
     ]
    },
    {
     "data": {
      "text/html": [
       "<div>\n",
       "<style scoped>\n",
       "    .dataframe tbody tr th:only-of-type {\n",
       "        vertical-align: middle;\n",
       "    }\n",
       "\n",
       "    .dataframe tbody tr th {\n",
       "        vertical-align: top;\n",
       "    }\n",
       "\n",
       "    .dataframe thead th {\n",
       "        text-align: right;\n",
       "    }\n",
       "</style>\n",
       "<table border=\"1\" class=\"dataframe\">\n",
       "  <thead>\n",
       "    <tr style=\"text-align: right;\">\n",
       "      <th></th>\n",
       "      <th>count</th>\n",
       "      <th>mean</th>\n",
       "      <th>sum</th>\n",
       "    </tr>\n",
       "    <tr>\n",
       "      <th>cluster</th>\n",
       "      <th></th>\n",
       "      <th></th>\n",
       "      <th></th>\n",
       "    </tr>\n",
       "  </thead>\n",
       "  <tbody>\n",
       "    <tr>\n",
       "      <th>0</th>\n",
       "      <td>18</td>\n",
       "      <td>911.406439</td>\n",
       "      <td>16405.3159</td>\n",
       "    </tr>\n",
       "    <tr>\n",
       "      <th>1</th>\n",
       "      <td>11</td>\n",
       "      <td>860.505945</td>\n",
       "      <td>9465.5654</td>\n",
       "    </tr>\n",
       "    <tr>\n",
       "      <th>2</th>\n",
       "      <td>22</td>\n",
       "      <td>898.378595</td>\n",
       "      <td>19764.3291</td>\n",
       "    </tr>\n",
       "  </tbody>\n",
       "</table>\n",
       "</div>"
      ],
      "text/plain": [
       "         count        mean         sum\n",
       "cluster                               \n",
       "0           18  911.406439  16405.3159\n",
       "1           11  860.505945   9465.5654\n",
       "2           22  898.378595  19764.3291"
      ]
     },
     "execution_count": 228,
     "metadata": {},
     "output_type": "execute_result"
    },
    {
     "data": {
      "image/png": "[encoded data removed]",
      "text/plain": [
       "<Figure size 432x288 with 1 Axes>"
      ]
     },
     "metadata": {
      "needs_background": "light"
     },
     "output_type": "display_data"
    }
   ],
   "source": [
    "# Read in the new dataset\n",
    "db_milesDriven =pd.read_csv(r\"C:\\Users\\dell\\Desktop\\Internship_technocolabs\\miles-driven.csv\", sep='|')\n",
    "\n",
    "# Merge the `car_acc` DataFrame with the `miles_driven` DataFrame\n",
    "db_road_accidents_miles = db_road_accidents.merge(db_milesDriven)\n",
    "\n",
    "# Create a new column for the number of drivers involved in fatal accidents\n",
    "db_road_accidents_miles['num_drvr_fatl_col'] = db_road_accidents_miles['million_miles_annually'] * db_road_accidents_miles['drvr_fatl_col_bmiles'] / 1000\n",
    "\n",
    "# # Create a barplot of the total number of accidents per cluster\n",
    "sns.barplot(x='cluster', y='num_drvr_fatl_col', data=db_road_accidents_miles, estimator=sum, ci=None)\n",
    "\n",
    "# # Calculate the number of states in each cluster and their 'num_drvr_fatl_col' mean and sum.\n",
    "count_mean_sum = db_road_accidents_miles.groupby('cluster').agg(['count', 'mean', 'sum'])['num_drvr_fatl_col']\n",
    "count_mean_sum"
   ]
  },
  {
   "cell_type": "markdown",
   "id": "67987943",
   "metadata": {},
   "source": [
    "# Make a decision when there is no clear right choice"
   ]
  },
  {
   "cell_type": "code",
   "execution_count": 229,
   "id": "5697a280",
   "metadata": {},
   "outputs": [],
   "source": [
    "cluster_num = 2"
   ]
  },
  {
   "cell_type": "code",
   "execution_count": null,
   "id": "644acbb1",
   "metadata": {},
   "outputs": [],
   "source": []
  }
 ],
 "metadata": {
  "kernelspec": {
   "display_name": "Python 3 (ipykernel)",
   "language": "python",
   "name": "python3"
  },
  "language_info": {
   "codemirror_mode": {
    "name": "ipython",
    "version": 3
   },
   "file_extension": ".py",
   "mimetype": "text/x-python",
   "name": "python",
   "nbconvert_exporter": "python",
   "pygments_lexer": "ipython3",
   "version": "3.9.12"
  }
 },
 "nbformat": 4,
 "nbformat_minor": 5
}
